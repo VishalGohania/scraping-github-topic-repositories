{
  "cells": [
    {
      "cell_type": "markdown",
      "metadata": {
        "id": "JzuBuq9nWVoU"
      },
      "source": [
        "# Scraping Top Repositories for Topics on GitHub\n",
        "\n",
        "\n",
        "- Web scraping is the process of extracting data from a website. In this project, we will use Python libraries such as requests, BeautifulSoup, and pandas to scrape GitHub and identify the top repositories for topics.\n",
        "\n",
        "- GitHub is a popular platform for hosting open-source software projects. It allows developers to collaborate and share their code with others. As of 2023, GitHub hosts over 200 million repositories.\n",
        "\n"
      ]
    },
    {
      "cell_type": "markdown",
      "source": [
        "### Project Outline\n",
        "- We're going to scrap https://github.com/topics\n",
        "- We'll get a list of topics. For each topic, we will get topic title, topic page URL and topic description\n",
        "- For each topic, we'll get the top 30 repositeries in the topic from the topic page\n",
        "- For each repository, we'll grab the repo name, username, stars and repo URL\n",
        "- For each topic we'll create CSV file in the following format:\n",
        "\n",
        "Repo Name,Username,Stars,Repo URL\n",
        "three.js,mrdoob,69700,https://github.com/mrdoob/three.js\n",
        "libgdx,libgdx,18300,https://github.com/libgdx/libgdx"
      ],
      "metadata": {
        "id": "BeW4tBuZYoAP"
      }
    },
    {
      "cell_type": "markdown",
      "source": [
        "## Scrape the list of topics from GitHub\n",
        "\n",
        "- use requests to download the page\n",
        "- use BS4 to parse and extract information\n",
        "- Convert to pandas DataFrame\n",
        "\n",
        "Let's write the function to downlaod the page"
      ],
      "metadata": {
        "id": "KJmaPrOGZxi2"
      }
    },
    {
      "cell_type": "code",
      "source": [
        "import requests\n",
        "from bs4 import BeautifulSoup\n",
        "\n",
        "def get_topic_page():\n",
        "  # URL of the GitHub topics page\n",
        "  topic_urls = 'https://github.com/topics'\n",
        "\n",
        "  # Send a GET request to the topics page\n",
        "  response = requests.get(topic_urls)\n",
        "  if response.status_code != 200:\n",
        "    raise Exception('Failed to load Page {}'.format(topic_url))\n",
        "\n",
        "  # Parse the HTML response using BeautifulSoup\n",
        "  doc = BeautifulSoup(response.text, 'html.parser')\n",
        "  return doc"
      ],
      "metadata": {
        "id": "pYl-yXmaaHgX"
      },
      "execution_count": 2,
      "outputs": []
    },
    {
      "cell_type": "markdown",
      "source": [
        "The `get_topic_page` function downloads the GitHub topics page using `requests.get()` and parses it using `BeautifulSoup`."
      ],
      "metadata": {
        "id": "JaOF5NnhMIVm"
      }
    },
    {
      "cell_type": "code",
      "source": [
        "doc = get_topic_page()"
      ],
      "metadata": {
        "id": "vp82E9Nh8kpO"
      },
      "execution_count": 3,
      "outputs": []
    },
    {
      "cell_type": "markdown",
      "source": [
        "Let's create some helper functions to parse information from the page.\n",
        "\n",
        "To get topic titles, we can pick `p` tags with the `class` which we used in `selection_class` below\n",
        "\n",
        "![](https://i.imgur.com/gs8AvJ9.png)"
      ],
      "metadata": {
        "id": "pYUKxOysAbB6"
      }
    },
    {
      "cell_type": "code",
      "source": [
        "def get_topic_titles(doc):\n",
        "  # Find all 'p' tags with the specified class name\n",
        "  selection_class = 'f3 lh-condensed mb-0 mt-1 Link--primary'\n",
        "  topic_title_tags = doc.find_all('p', {'class': selection_class})\n",
        "\n",
        "  # Extract the text from each 'p' tag and store it in a list\n",
        "  topic_titles = []\n",
        "  for tag in topic_title_tags:\n",
        "    topic_titles.append(tag.text)\n",
        "\n",
        "  # Return the list of topic titles\n",
        "  return topic_titles"
      ],
      "metadata": {
        "id": "yZZUITNX9H65"
      },
      "execution_count": 4,
      "outputs": []
    },
    {
      "cell_type": "markdown",
      "source": [
        "The `get_topic_titles` function extracts the topic titles from the parsed HTML document by finding all `p` tags with the class name `f3 lh-condensed mb-0 mt-1 Link--primary` and extracting their text content.\n"
      ],
      "metadata": {
        "id": "5WFTiDh2A5mD"
      }
    },
    {
      "cell_type": "code",
      "source": [
        "titles = get_topic_titles(doc)"
      ],
      "metadata": {
        "id": "vv4inxCKBLz1"
      },
      "execution_count": 5,
      "outputs": []
    },
    {
      "cell_type": "code",
      "source": [
        "len(titles)"
      ],
      "metadata": {
        "colab": {
          "base_uri": "https://localhost:8080/"
        },
        "id": "Rhk7OcBnBWoM",
        "outputId": "cb1272a4-ca7c-4800-b7f6-b2b8e03d4733"
      },
      "execution_count": 6,
      "outputs": [
        {
          "output_type": "execute_result",
          "data": {
            "text/plain": [
              "30"
            ]
          },
          "metadata": {},
          "execution_count": 6
        }
      ]
    },
    {
      "cell_type": "code",
      "source": [
        "titles[:5]"
      ],
      "metadata": {
        "colab": {
          "base_uri": "https://localhost:8080/"
        },
        "id": "as3xvfBxBjMO",
        "outputId": "46f81d15-f2eb-4992-b859-69728222c8f1"
      },
      "execution_count": 7,
      "outputs": [
        {
          "output_type": "execute_result",
          "data": {
            "text/plain": [
              "['3D', 'Ajax', 'Algorithm', 'Amp', 'Android']"
            ]
          },
          "metadata": {},
          "execution_count": 7
        }
      ]
    },
    {
      "cell_type": "markdown",
      "source": [
        "\n",
        "\n",
        " Similarly we have defined functions for descriptions and URLs."
      ],
      "metadata": {
        "id": "AlxmfJbPIGCR"
      }
    },
    {
      "cell_type": "code",
      "source": [
        "def get_topic_desc(doc):\n",
        "  # Find all 'p' tags with the specified class name\n",
        "  desc_selector = 'f5 color-fg-muted mb-0 mt-1'\n",
        "  topic_desc_tags = doc.find_all('p', {'class': desc_selector})\n",
        "\n",
        "  # Extract the text from each 'p' tag, strip whitespace, and store it in a list\n",
        "  topic_descs = []\n",
        "  for tag in topic_desc_tags:\n",
        "    topic_descs.append(tag.text.strip())\n",
        "\n",
        "  # Return the list of topic descriptions\n",
        "  return topic_descs"
      ],
      "metadata": {
        "id": "_yjodA10AuNm"
      },
      "execution_count": 8,
      "outputs": []
    },
    {
      "cell_type": "markdown",
      "source": [
        "`get_topic_desc` finds all the topic descriptions on the GitHub topics page and puts them in a list."
      ],
      "metadata": {
        "id": "eXuP7WdPSFSi"
      }
    },
    {
      "cell_type": "markdown",
      "source": [
        "- similarly we created a function to get the URLs of all topics from GitHub topics page.\n",
        "\n",
        "- `get_topic_urls` function extracts the URLs of all the topics listed on the GitHub topics page."
      ],
      "metadata": {
        "id": "nd82O83XSYu7"
      }
    },
    {
      "cell_type": "code",
      "source": [
        "def get_topic_urls(doc):\n",
        "  # Find all 'a' tags with the specified class name\n",
        "  topic_link_tags = doc.find_all('a', {'class': 'no-underline flex-1 d-flex flex-column'})\n",
        "\n",
        "  # Extract the URLs from each 'a' tag and store it in a list\n",
        "  topic_urls = []\n",
        "  base_url = \"https://github.com\"\n",
        "  for tag in topic_link_tags:\n",
        "    topic_urls.append(base_url + tag['href'])\n",
        "\n",
        "  # Return the list of topic URLs\n",
        "  return topic_urls"
      ],
      "metadata": {
        "id": "mSBXyLkpAvEs"
      },
      "execution_count": 9,
      "outputs": []
    },
    {
      "cell_type": "markdown",
      "source": [
        "Overall, this function extracts the URLs of all the topics listed on the GitHub topics page and stores them in a list."
      ],
      "metadata": {
        "id": "u76pFYsXUoXy"
      }
    },
    {
      "cell_type": "markdown",
      "source": [
        "### Let's put this all together into a single function"
      ],
      "metadata": {
        "id": "9US4hBSwIaIv"
      }
    },
    {
      "cell_type": "code",
      "source": [
        "import pandas as pd\n",
        "\n",
        "def scrape_topics():\n",
        "  # Send a GET request to the topics page\n",
        "  topic_urls = 'https://github.com/topics'\n",
        "  response = requests.get(topic_urls)\n",
        "\n",
        "  # Check if the request was successfu\n",
        "  if response.status_code != 200:\n",
        "    raise Exception('Failed to load Page {}'.format(topic_url))\n",
        "\n",
        "  # Parse the HTML response using BeautifulSoup\n",
        "  doc = BeautifulSoup(response.text, 'html.parser')\n",
        "\n",
        "  # create the dictionary with keys title, description and url\n",
        "  topics_dict = {\n",
        "      'title': get_topic_titles(doc),\n",
        "      'description': get_topic_desc(doc),\n",
        "      'url': get_topic_urls(doc)\n",
        "  }\n",
        "\n",
        "  # return into a pandas DataFrame\n",
        "  return pd.DataFrame(topics_dict)"
      ],
      "metadata": {
        "id": "s80vA2_oIgLl"
      },
      "execution_count": 10,
      "outputs": []
    },
    {
      "cell_type": "markdown",
      "source": [
        "The function `scrape_topics` scrapes the list of topics(title, description, URLs) from the GitHub topics page and returns the data as a pandas DataFrame."
      ],
      "metadata": {
        "id": "l5FF_4mUY9BK"
      }
    },
    {
      "cell_type": "code",
      "source": [],
      "metadata": {
        "id": "CMPkNYngI3yn"
      },
      "execution_count": 10,
      "outputs": []
    },
    {
      "cell_type": "markdown",
      "source": [
        "## Get the Top 30 Repositories from the Topic page\n",
        "\n",
        "we find the list of topics from the GitHub topics page now let's find the top 30 repositories from each topic.\n",
        "\n",
        "Steps to find the top repositories from each topic\n",
        "- let's get the topic page url from gitHub topic page"
      ],
      "metadata": {
        "id": "klFNuOqAI4IG"
      }
    },
    {
      "cell_type": "code",
      "source": [
        "def get_topic_page(topic_url):\n",
        "  # Download the page\n",
        "  response = requests.get(topic_url)\n",
        "  # Check successful response\n",
        "  if response.status_code != 200:\n",
        "    raise Exception('Failed to load page {}'.format(topic_url))\n",
        "  # Parse using Beautiful soup\n",
        "  topic_doc = BeautifulSoup(response.text, 'html.parser')\n",
        "  return topic_doc"
      ],
      "metadata": {
        "id": "jiuJT1R-I9is"
      },
      "execution_count": 11,
      "outputs": []
    },
    {
      "cell_type": "markdown",
      "source": [
        "- The primary purpose of this function is to download the HTML content of a GitHub topic page and parse it using BeautifulSoup.\n",
        "- This allows us to further extract and analyze the information available on the topic page."
      ],
      "metadata": {
        "id": "9yZ4rdumcLdX"
      }
    },
    {
      "cell_type": "code",
      "source": [
        "doc = get_topic_page('https://github.com/topics/3d')"
      ],
      "metadata": {
        "id": "7hs3hdamJ5QS"
      },
      "execution_count": 12,
      "outputs": []
    },
    {
      "cell_type": "markdown",
      "source": [
        "The function parse_star_count takes a string representing the number of stars as input and returns the integer equivalent."
      ],
      "metadata": {
        "id": "_SvZxSicMfVK"
      }
    },
    {
      "cell_type": "code",
      "source": [
        "def parse_star_count(stars_str):\n",
        "  stars_str = stars_str.strip()\n",
        "  if stars_str[-1] == 'k':\n",
        "    return int(float(stars_str[:-1]) * 1000)\n",
        "  return int(stars_str)"
      ],
      "metadata": {
        "id": "dqIBqamDMJZ2"
      },
      "execution_count": 20,
      "outputs": []
    },
    {
      "cell_type": "markdown",
      "source": [
        "- Let's take information about username, repository name, count of stars and repos URLs from each topic from topic page.\n",
        "- This function extracts information about a repository from two HTML tags i.e. `h3_tag` and `star_tag`.\n",
        "- `h3_tag`: An h3 tag containing the username and repository name as hyperlinks.\n",
        "- `star_tag`: A tag containing the number of stars as text."
      ],
      "metadata": {
        "id": "nlCBWJHZKHP7"
      }
    },
    {
      "cell_type": "code",
      "source": [
        "def get_repo_info(h3_tag, star_tag):\n",
        "  # Extract the username and repository name from the h3 tag\n",
        "  a_tags = h3_tag.find_all('a')\n",
        "  username = a_tags[0].text.strip()\n",
        "  repo_name = a_tags[1].text.strip()\n",
        "\n",
        "  # Construct the repository URL by adding base_url with a tags\n",
        "  base_url = \"https://github.com\"\n",
        "  repo_url = base_url + a_tags[0]['href']\n",
        "\n",
        "  # Extract the number of stars from the star_tag\n",
        "  stars = parse_star_count(star_tag.text.strip())\n",
        "\n",
        "  # Return the extracted information\n",
        "  return username, repo_name, stars, repo_url"
      ],
      "metadata": {
        "id": "pRvUt8ydKCm2"
      },
      "execution_count": 18,
      "outputs": []
    },
    {
      "cell_type": "markdown",
      "source": [
        "- `get_repo_info` extracts the username, repository name, stars, and URL from the HTML tags.\n",
        "- `get_topic_repos` finds all relevant tags and uses `get_repo_info` to collect data into a dictionary.\n",
        "The dictionary is converted into a pandas DataFrame for easy manipulation."
      ],
      "metadata": {
        "id": "TFPQMBYD6D1H"
      }
    },
    {
      "cell_type": "code",
      "source": [
        "def get_topic_repos(topic_doc):\n",
        "  # Get the h3 tags containing repo title, repo URL and username\n",
        "  h3_selection_class = 'f3 color-fg-muted text-normal lh-condensed'\n",
        "  repo_tags = topic_doc.find_all('h3', {'class': h3_selection_class})\n",
        "  # Get star tags\n",
        "  star_tags = topic_doc.find_all('span', {'class': 'Counter js-social-count'})\n",
        "\n",
        "  # create a dictionary for collect the data into dictionary\n",
        "  topic_repos_dict = {\n",
        "      'username': [],\n",
        "      'repo_name': [],\n",
        "      'stars': [],\n",
        "      'repo_url': []\n",
        "      }\n",
        "\n",
        "  # Get repo info and put into the topic_repos_info dictionary\n",
        "  for i in range(len(repo_tags)):\n",
        "    repo_info = get_repo_info(repo_tags[i], star_tags[i])\n",
        "    topic_repos_dict['username'].append(repo_info[0])\n",
        "    topic_repos_dict['repo_name'].append(repo_info[1])\n",
        "    topic_repos_dict['stars'].append(repo_info[2])\n",
        "    topic_repos_dict[\"repo_url\"].append(repo_info[3])\n",
        "\n",
        "  # return into a pandas dataframe\n",
        "  return pd.DataFrame(topic_repos_dict)"
      ],
      "metadata": {
        "id": "1npZx6zRKVp4"
      },
      "execution_count": 14,
      "outputs": []
    },
    {
      "cell_type": "markdown",
      "source": [
        "`scrape_topic` function scrapes data from a topic page on GitHub and saves it to a CSV file."
      ],
      "metadata": {
        "id": "fNe_nImmKeNR"
      }
    },
    {
      "cell_type": "code",
      "source": [
        "def scrape_topic(topic_url, path):\n",
        "  # Check if the file already exists and skip scraping if it does.\n",
        "  if os.path.exists(path):\n",
        "    print(\"The file {} already exists. skipping...\".format(path))\n",
        "    return\n",
        "\n",
        "  # Extract information about the repositories related to the topic.\n",
        "  topic_df = get_topic_repos(get_topic_page(topic_url))\n",
        "\n",
        "  # Save the extracted information to a CSV file.\n",
        "  topic_df.to_csv(path, index=None)"
      ],
      "metadata": {
        "id": "evVZUR4kKk-W"
      },
      "execution_count": 15,
      "outputs": []
    },
    {
      "cell_type": "code",
      "source": [],
      "metadata": {
        "id": "lOLMaIS8K1uh"
      },
      "execution_count": 15,
      "outputs": []
    },
    {
      "cell_type": "markdown",
      "source": [
        "## Putting it all together\n",
        "\n",
        "- We have the function to get the list of topics\n",
        "- We have the function to create a CSV file for scraped repos from a topics page\n",
        "- Let's create a function to put them together"
      ],
      "metadata": {
        "id": "6ajnxeXZL6D9"
      }
    },
    {
      "cell_type": "code",
      "source": [
        "import os\n",
        "\n",
        "def scrape_topic_repos():\n",
        "\n",
        "  \"\"\"\n",
        "    This function combines the functionality of the `scrape_topics` and `scrape_topic` functions to scrape data from multiple topic pages and save it to individual CSV files.\n",
        "  \"\"\"\n",
        "  print('Scraping list of topics')\n",
        "  topics_df = scrape_topics()\n",
        "\n",
        "  os.makedirs('data', exist_ok=True)\n",
        "  for index, row in topics_df.iterrows():\n",
        "    print('Scraping top repositories for \"{}\"'.format(row['title']))\n",
        "    scrape_topic(row['url'], 'data/{}.csv'.format(row['title']))"
      ],
      "metadata": {
        "id": "MBSY9gdqL8g3"
      },
      "execution_count": 16,
      "outputs": []
    },
    {
      "cell_type": "markdown",
      "source": [
        "Let's run it to scrape the top repos for all the topics on the first page of https://github.com/topics"
      ],
      "metadata": {
        "id": "Cktk-3nfNBfn"
      }
    },
    {
      "cell_type": "code",
      "source": [
        "scrape_topic_repos()"
      ],
      "metadata": {
        "id": "rZNpqmHuNPMd",
        "colab": {
          "base_uri": "https://localhost:8080/"
        },
        "outputId": "b32c55bd-7e7a-4157-a694-a2236da9dadb"
      },
      "execution_count": 21,
      "outputs": [
        {
          "output_type": "stream",
          "name": "stdout",
          "text": [
            "Scraping list of topics\n",
            "Scraping top repositories for \"3D\"\n",
            "Scraping top repositories for \"Ajax\"\n",
            "Scraping top repositories for \"Algorithm\"\n",
            "Scraping top repositories for \"Amp\"\n",
            "Scraping top repositories for \"Android\"\n",
            "Scraping top repositories for \"Angular\"\n",
            "Scraping top repositories for \"Ansible\"\n",
            "Scraping top repositories for \"API\"\n",
            "Scraping top repositories for \"Arduino\"\n",
            "Scraping top repositories for \"ASP.NET\"\n",
            "Scraping top repositories for \"Atom\"\n",
            "Scraping top repositories for \"Awesome Lists\"\n",
            "Scraping top repositories for \"Amazon Web Services\"\n",
            "Scraping top repositories for \"Azure\"\n",
            "Scraping top repositories for \"Babel\"\n",
            "Scraping top repositories for \"Bash\"\n",
            "Scraping top repositories for \"Bitcoin\"\n",
            "Scraping top repositories for \"Bootstrap\"\n",
            "Scraping top repositories for \"Bot\"\n",
            "Scraping top repositories for \"C\"\n",
            "Scraping top repositories for \"Chrome\"\n",
            "Scraping top repositories for \"Chrome extension\"\n",
            "Scraping top repositories for \"Command line interface\"\n",
            "Scraping top repositories for \"Clojure\"\n",
            "Scraping top repositories for \"Code quality\"\n",
            "Scraping top repositories for \"Code review\"\n",
            "Scraping top repositories for \"Compiler\"\n",
            "Scraping top repositories for \"Continuous integration\"\n",
            "Scraping top repositories for \"COVID-19\"\n",
            "Scraping top repositories for \"C++\"\n"
          ]
        }
      ]
    },
    {
      "cell_type": "markdown",
      "source": [
        "We can check that the CSVs were created properly"
      ],
      "metadata": {
        "id": "uhPrUZc2NWvQ"
      }
    },
    {
      "cell_type": "code",
      "source": [
        "# read and display a CSV using pandas\n",
        "pd.read_csv('data/Android.csv')"
      ],
      "metadata": {
        "id": "sf5OlVUCOQpH",
        "colab": {
          "base_uri": "https://localhost:8080/",
          "height": 711
        },
        "outputId": "793cfa3d-b05c-4d46-d1e0-a2b2500f0aea"
      },
      "execution_count": 22,
      "outputs": [
        {
          "output_type": "execute_result",
          "data": {
            "text/plain": [
              "            username                     repo_name   stars  \\\n",
              "0            flutter                       flutter  162000   \n",
              "1           facebook                  react-native  116000   \n",
              "2          justjavac  free-programming-books-zh_CN  110000   \n",
              "3         Genymobile                        scrcpy  104000   \n",
              "4   Hack-with-Github               Awesome-Hacking   78500   \n",
              "5             Solido               awesome-flutter   51700   \n",
              "6             google         material-design-icons   49900   \n",
              "7           wasabeef            awesome-android-ui   49400   \n",
              "8         tldr-pages                          tldr   48800   \n",
              "9             square                        okhttp   45400   \n",
              "10           android          architecture-samples   44000   \n",
              "11         laurent22                        joplin   43600   \n",
              "12            square                      retrofit   42700   \n",
              "13          appwrite                      appwrite   41500   \n",
              "14            skylot                          jadx   39600   \n",
              "15          dcloudio                       uni-app   39500   \n",
              "16          fastlane                      fastlane   38700   \n",
              "17           PhilJay                MPAndroidChart   37300   \n",
              "18       shadowsocks           shadowsocks-android   34800   \n",
              "19            airbnb                lottie-android   34700   \n",
              "\n",
              "                               repo_url  \n",
              "0            https://github.com/flutter  \n",
              "1           https://github.com/facebook  \n",
              "2          https://github.com/justjavac  \n",
              "3         https://github.com/Genymobile  \n",
              "4   https://github.com/Hack-with-Github  \n",
              "5             https://github.com/Solido  \n",
              "6             https://github.com/google  \n",
              "7           https://github.com/wasabeef  \n",
              "8         https://github.com/tldr-pages  \n",
              "9             https://github.com/square  \n",
              "10           https://github.com/android  \n",
              "11         https://github.com/laurent22  \n",
              "12            https://github.com/square  \n",
              "13          https://github.com/appwrite  \n",
              "14            https://github.com/skylot  \n",
              "15          https://github.com/dcloudio  \n",
              "16          https://github.com/fastlane  \n",
              "17           https://github.com/PhilJay  \n",
              "18       https://github.com/shadowsocks  \n",
              "19            https://github.com/airbnb  "
            ],
            "text/html": [
              "\n",
              "  <div id=\"df-dc35cd40-9eb1-46a0-820a-485c802f5fe8\" class=\"colab-df-container\">\n",
              "    <div>\n",
              "<style scoped>\n",
              "    .dataframe tbody tr th:only-of-type {\n",
              "        vertical-align: middle;\n",
              "    }\n",
              "\n",
              "    .dataframe tbody tr th {\n",
              "        vertical-align: top;\n",
              "    }\n",
              "\n",
              "    .dataframe thead th {\n",
              "        text-align: right;\n",
              "    }\n",
              "</style>\n",
              "<table border=\"1\" class=\"dataframe\">\n",
              "  <thead>\n",
              "    <tr style=\"text-align: right;\">\n",
              "      <th></th>\n",
              "      <th>username</th>\n",
              "      <th>repo_name</th>\n",
              "      <th>stars</th>\n",
              "      <th>repo_url</th>\n",
              "    </tr>\n",
              "  </thead>\n",
              "  <tbody>\n",
              "    <tr>\n",
              "      <th>0</th>\n",
              "      <td>flutter</td>\n",
              "      <td>flutter</td>\n",
              "      <td>162000</td>\n",
              "      <td>https://github.com/flutter</td>\n",
              "    </tr>\n",
              "    <tr>\n",
              "      <th>1</th>\n",
              "      <td>facebook</td>\n",
              "      <td>react-native</td>\n",
              "      <td>116000</td>\n",
              "      <td>https://github.com/facebook</td>\n",
              "    </tr>\n",
              "    <tr>\n",
              "      <th>2</th>\n",
              "      <td>justjavac</td>\n",
              "      <td>free-programming-books-zh_CN</td>\n",
              "      <td>110000</td>\n",
              "      <td>https://github.com/justjavac</td>\n",
              "    </tr>\n",
              "    <tr>\n",
              "      <th>3</th>\n",
              "      <td>Genymobile</td>\n",
              "      <td>scrcpy</td>\n",
              "      <td>104000</td>\n",
              "      <td>https://github.com/Genymobile</td>\n",
              "    </tr>\n",
              "    <tr>\n",
              "      <th>4</th>\n",
              "      <td>Hack-with-Github</td>\n",
              "      <td>Awesome-Hacking</td>\n",
              "      <td>78500</td>\n",
              "      <td>https://github.com/Hack-with-Github</td>\n",
              "    </tr>\n",
              "    <tr>\n",
              "      <th>5</th>\n",
              "      <td>Solido</td>\n",
              "      <td>awesome-flutter</td>\n",
              "      <td>51700</td>\n",
              "      <td>https://github.com/Solido</td>\n",
              "    </tr>\n",
              "    <tr>\n",
              "      <th>6</th>\n",
              "      <td>google</td>\n",
              "      <td>material-design-icons</td>\n",
              "      <td>49900</td>\n",
              "      <td>https://github.com/google</td>\n",
              "    </tr>\n",
              "    <tr>\n",
              "      <th>7</th>\n",
              "      <td>wasabeef</td>\n",
              "      <td>awesome-android-ui</td>\n",
              "      <td>49400</td>\n",
              "      <td>https://github.com/wasabeef</td>\n",
              "    </tr>\n",
              "    <tr>\n",
              "      <th>8</th>\n",
              "      <td>tldr-pages</td>\n",
              "      <td>tldr</td>\n",
              "      <td>48800</td>\n",
              "      <td>https://github.com/tldr-pages</td>\n",
              "    </tr>\n",
              "    <tr>\n",
              "      <th>9</th>\n",
              "      <td>square</td>\n",
              "      <td>okhttp</td>\n",
              "      <td>45400</td>\n",
              "      <td>https://github.com/square</td>\n",
              "    </tr>\n",
              "    <tr>\n",
              "      <th>10</th>\n",
              "      <td>android</td>\n",
              "      <td>architecture-samples</td>\n",
              "      <td>44000</td>\n",
              "      <td>https://github.com/android</td>\n",
              "    </tr>\n",
              "    <tr>\n",
              "      <th>11</th>\n",
              "      <td>laurent22</td>\n",
              "      <td>joplin</td>\n",
              "      <td>43600</td>\n",
              "      <td>https://github.com/laurent22</td>\n",
              "    </tr>\n",
              "    <tr>\n",
              "      <th>12</th>\n",
              "      <td>square</td>\n",
              "      <td>retrofit</td>\n",
              "      <td>42700</td>\n",
              "      <td>https://github.com/square</td>\n",
              "    </tr>\n",
              "    <tr>\n",
              "      <th>13</th>\n",
              "      <td>appwrite</td>\n",
              "      <td>appwrite</td>\n",
              "      <td>41500</td>\n",
              "      <td>https://github.com/appwrite</td>\n",
              "    </tr>\n",
              "    <tr>\n",
              "      <th>14</th>\n",
              "      <td>skylot</td>\n",
              "      <td>jadx</td>\n",
              "      <td>39600</td>\n",
              "      <td>https://github.com/skylot</td>\n",
              "    </tr>\n",
              "    <tr>\n",
              "      <th>15</th>\n",
              "      <td>dcloudio</td>\n",
              "      <td>uni-app</td>\n",
              "      <td>39500</td>\n",
              "      <td>https://github.com/dcloudio</td>\n",
              "    </tr>\n",
              "    <tr>\n",
              "      <th>16</th>\n",
              "      <td>fastlane</td>\n",
              "      <td>fastlane</td>\n",
              "      <td>38700</td>\n",
              "      <td>https://github.com/fastlane</td>\n",
              "    </tr>\n",
              "    <tr>\n",
              "      <th>17</th>\n",
              "      <td>PhilJay</td>\n",
              "      <td>MPAndroidChart</td>\n",
              "      <td>37300</td>\n",
              "      <td>https://github.com/PhilJay</td>\n",
              "    </tr>\n",
              "    <tr>\n",
              "      <th>18</th>\n",
              "      <td>shadowsocks</td>\n",
              "      <td>shadowsocks-android</td>\n",
              "      <td>34800</td>\n",
              "      <td>https://github.com/shadowsocks</td>\n",
              "    </tr>\n",
              "    <tr>\n",
              "      <th>19</th>\n",
              "      <td>airbnb</td>\n",
              "      <td>lottie-android</td>\n",
              "      <td>34700</td>\n",
              "      <td>https://github.com/airbnb</td>\n",
              "    </tr>\n",
              "  </tbody>\n",
              "</table>\n",
              "</div>\n",
              "    <div class=\"colab-df-buttons\">\n",
              "\n",
              "  <div class=\"colab-df-container\">\n",
              "    <button class=\"colab-df-convert\" onclick=\"convertToInteractive('df-dc35cd40-9eb1-46a0-820a-485c802f5fe8')\"\n",
              "            title=\"Convert this dataframe to an interactive table.\"\n",
              "            style=\"display:none;\">\n",
              "\n",
              "  <svg xmlns=\"http://www.w3.org/2000/svg\" height=\"24px\" viewBox=\"0 -960 960 960\">\n",
              "    <path d=\"M120-120v-720h720v720H120Zm60-500h600v-160H180v160Zm220 220h160v-160H400v160Zm0 220h160v-160H400v160ZM180-400h160v-160H180v160Zm440 0h160v-160H620v160ZM180-180h160v-160H180v160Zm440 0h160v-160H620v160Z\"/>\n",
              "  </svg>\n",
              "    </button>\n",
              "\n",
              "  <style>\n",
              "    .colab-df-container {\n",
              "      display:flex;\n",
              "      gap: 12px;\n",
              "    }\n",
              "\n",
              "    .colab-df-convert {\n",
              "      background-color: #E8F0FE;\n",
              "      border: none;\n",
              "      border-radius: 50%;\n",
              "      cursor: pointer;\n",
              "      display: none;\n",
              "      fill: #1967D2;\n",
              "      height: 32px;\n",
              "      padding: 0 0 0 0;\n",
              "      width: 32px;\n",
              "    }\n",
              "\n",
              "    .colab-df-convert:hover {\n",
              "      background-color: #E2EBFA;\n",
              "      box-shadow: 0px 1px 2px rgba(60, 64, 67, 0.3), 0px 1px 3px 1px rgba(60, 64, 67, 0.15);\n",
              "      fill: #174EA6;\n",
              "    }\n",
              "\n",
              "    .colab-df-buttons div {\n",
              "      margin-bottom: 4px;\n",
              "    }\n",
              "\n",
              "    [theme=dark] .colab-df-convert {\n",
              "      background-color: #3B4455;\n",
              "      fill: #D2E3FC;\n",
              "    }\n",
              "\n",
              "    [theme=dark] .colab-df-convert:hover {\n",
              "      background-color: #434B5C;\n",
              "      box-shadow: 0px 1px 3px 1px rgba(0, 0, 0, 0.15);\n",
              "      filter: drop-shadow(0px 1px 2px rgba(0, 0, 0, 0.3));\n",
              "      fill: #FFFFFF;\n",
              "    }\n",
              "  </style>\n",
              "\n",
              "    <script>\n",
              "      const buttonEl =\n",
              "        document.querySelector('#df-dc35cd40-9eb1-46a0-820a-485c802f5fe8 button.colab-df-convert');\n",
              "      buttonEl.style.display =\n",
              "        google.colab.kernel.accessAllowed ? 'block' : 'none';\n",
              "\n",
              "      async function convertToInteractive(key) {\n",
              "        const element = document.querySelector('#df-dc35cd40-9eb1-46a0-820a-485c802f5fe8');\n",
              "        const dataTable =\n",
              "          await google.colab.kernel.invokeFunction('convertToInteractive',\n",
              "                                                    [key], {});\n",
              "        if (!dataTable) return;\n",
              "\n",
              "        const docLinkHtml = 'Like what you see? Visit the ' +\n",
              "          '<a target=\"_blank\" href=https://colab.research.google.com/notebooks/data_table.ipynb>data table notebook</a>'\n",
              "          + ' to learn more about interactive tables.';\n",
              "        element.innerHTML = '';\n",
              "        dataTable['output_type'] = 'display_data';\n",
              "        await google.colab.output.renderOutput(dataTable, element);\n",
              "        const docLink = document.createElement('div');\n",
              "        docLink.innerHTML = docLinkHtml;\n",
              "        element.appendChild(docLink);\n",
              "      }\n",
              "    </script>\n",
              "  </div>\n",
              "\n",
              "\n",
              "<div id=\"df-dd1e15e3-b22a-4d94-9a47-da3d95380a6e\">\n",
              "  <button class=\"colab-df-quickchart\" onclick=\"quickchart('df-dd1e15e3-b22a-4d94-9a47-da3d95380a6e')\"\n",
              "            title=\"Suggest charts\"\n",
              "            style=\"display:none;\">\n",
              "\n",
              "<svg xmlns=\"http://www.w3.org/2000/svg\" height=\"24px\"viewBox=\"0 0 24 24\"\n",
              "     width=\"24px\">\n",
              "    <g>\n",
              "        <path d=\"M19 3H5c-1.1 0-2 .9-2 2v14c0 1.1.9 2 2 2h14c1.1 0 2-.9 2-2V5c0-1.1-.9-2-2-2zM9 17H7v-7h2v7zm4 0h-2V7h2v10zm4 0h-2v-4h2v4z\"/>\n",
              "    </g>\n",
              "</svg>\n",
              "  </button>\n",
              "\n",
              "<style>\n",
              "  .colab-df-quickchart {\n",
              "      --bg-color: #E8F0FE;\n",
              "      --fill-color: #1967D2;\n",
              "      --hover-bg-color: #E2EBFA;\n",
              "      --hover-fill-color: #174EA6;\n",
              "      --disabled-fill-color: #AAA;\n",
              "      --disabled-bg-color: #DDD;\n",
              "  }\n",
              "\n",
              "  [theme=dark] .colab-df-quickchart {\n",
              "      --bg-color: #3B4455;\n",
              "      --fill-color: #D2E3FC;\n",
              "      --hover-bg-color: #434B5C;\n",
              "      --hover-fill-color: #FFFFFF;\n",
              "      --disabled-bg-color: #3B4455;\n",
              "      --disabled-fill-color: #666;\n",
              "  }\n",
              "\n",
              "  .colab-df-quickchart {\n",
              "    background-color: var(--bg-color);\n",
              "    border: none;\n",
              "    border-radius: 50%;\n",
              "    cursor: pointer;\n",
              "    display: none;\n",
              "    fill: var(--fill-color);\n",
              "    height: 32px;\n",
              "    padding: 0;\n",
              "    width: 32px;\n",
              "  }\n",
              "\n",
              "  .colab-df-quickchart:hover {\n",
              "    background-color: var(--hover-bg-color);\n",
              "    box-shadow: 0 1px 2px rgba(60, 64, 67, 0.3), 0 1px 3px 1px rgba(60, 64, 67, 0.15);\n",
              "    fill: var(--button-hover-fill-color);\n",
              "  }\n",
              "\n",
              "  .colab-df-quickchart-complete:disabled,\n",
              "  .colab-df-quickchart-complete:disabled:hover {\n",
              "    background-color: var(--disabled-bg-color);\n",
              "    fill: var(--disabled-fill-color);\n",
              "    box-shadow: none;\n",
              "  }\n",
              "\n",
              "  .colab-df-spinner {\n",
              "    border: 2px solid var(--fill-color);\n",
              "    border-color: transparent;\n",
              "    border-bottom-color: var(--fill-color);\n",
              "    animation:\n",
              "      spin 1s steps(1) infinite;\n",
              "  }\n",
              "\n",
              "  @keyframes spin {\n",
              "    0% {\n",
              "      border-color: transparent;\n",
              "      border-bottom-color: var(--fill-color);\n",
              "      border-left-color: var(--fill-color);\n",
              "    }\n",
              "    20% {\n",
              "      border-color: transparent;\n",
              "      border-left-color: var(--fill-color);\n",
              "      border-top-color: var(--fill-color);\n",
              "    }\n",
              "    30% {\n",
              "      border-color: transparent;\n",
              "      border-left-color: var(--fill-color);\n",
              "      border-top-color: var(--fill-color);\n",
              "      border-right-color: var(--fill-color);\n",
              "    }\n",
              "    40% {\n",
              "      border-color: transparent;\n",
              "      border-right-color: var(--fill-color);\n",
              "      border-top-color: var(--fill-color);\n",
              "    }\n",
              "    60% {\n",
              "      border-color: transparent;\n",
              "      border-right-color: var(--fill-color);\n",
              "    }\n",
              "    80% {\n",
              "      border-color: transparent;\n",
              "      border-right-color: var(--fill-color);\n",
              "      border-bottom-color: var(--fill-color);\n",
              "    }\n",
              "    90% {\n",
              "      border-color: transparent;\n",
              "      border-bottom-color: var(--fill-color);\n",
              "    }\n",
              "  }\n",
              "</style>\n",
              "\n",
              "  <script>\n",
              "    async function quickchart(key) {\n",
              "      const quickchartButtonEl =\n",
              "        document.querySelector('#' + key + ' button');\n",
              "      quickchartButtonEl.disabled = true;  // To prevent multiple clicks.\n",
              "      quickchartButtonEl.classList.add('colab-df-spinner');\n",
              "      try {\n",
              "        const charts = await google.colab.kernel.invokeFunction(\n",
              "            'suggestCharts', [key], {});\n",
              "      } catch (error) {\n",
              "        console.error('Error during call to suggestCharts:', error);\n",
              "      }\n",
              "      quickchartButtonEl.classList.remove('colab-df-spinner');\n",
              "      quickchartButtonEl.classList.add('colab-df-quickchart-complete');\n",
              "    }\n",
              "    (() => {\n",
              "      let quickchartButtonEl =\n",
              "        document.querySelector('#df-dd1e15e3-b22a-4d94-9a47-da3d95380a6e button');\n",
              "      quickchartButtonEl.style.display =\n",
              "        google.colab.kernel.accessAllowed ? 'block' : 'none';\n",
              "    })();\n",
              "  </script>\n",
              "</div>\n",
              "\n",
              "    </div>\n",
              "  </div>\n"
            ],
            "application/vnd.google.colaboratory.intrinsic+json": {
              "type": "dataframe",
              "summary": "{\n  \"name\": \"pd\",\n  \"rows\": 20,\n  \"fields\": [\n    {\n      \"column\": \"username\",\n      \"properties\": {\n        \"dtype\": \"string\",\n        \"num_unique_values\": 19,\n        \"samples\": [\n          \"flutter\",\n          \"Solido\",\n          \"laurent22\"\n        ],\n        \"semantic_type\": \"\",\n        \"description\": \"\"\n      }\n    },\n    {\n      \"column\": \"repo_name\",\n      \"properties\": {\n        \"dtype\": \"string\",\n        \"num_unique_values\": 20,\n        \"samples\": [\n          \"flutter\",\n          \"MPAndroidChart\",\n          \"uni-app\"\n        ],\n        \"semantic_type\": \"\",\n        \"description\": \"\"\n      }\n    },\n    {\n      \"column\": \"stars\",\n      \"properties\": {\n        \"dtype\": \"number\",\n        \"std\": 34928,\n        \"min\": 34700,\n        \"max\": 162000,\n        \"num_unique_values\": 20,\n        \"samples\": [\n          162000,\n          37300,\n          39500\n        ],\n        \"semantic_type\": \"\",\n        \"description\": \"\"\n      }\n    },\n    {\n      \"column\": \"repo_url\",\n      \"properties\": {\n        \"dtype\": \"string\",\n        \"num_unique_values\": 19,\n        \"samples\": [\n          \"https://github.com/flutter\",\n          \"https://github.com/Solido\",\n          \"https://github.com/laurent22\"\n        ],\n        \"semantic_type\": \"\",\n        \"description\": \"\"\n      }\n    }\n  ]\n}"
            }
          },
          "metadata": {},
          "execution_count": 22
        }
      ]
    },
    {
      "cell_type": "markdown",
      "source": [
        "### **Summary and** **References**\n",
        "\n",
        "**Summary of what we did**\n",
        "\n",
        "- Scraped the GitHub topics page to retrieve a list of topics along with their titles, descriptions, and URLs.\n",
        "\n",
        "- For each topic, scraped the top 30 repositories, collecting information such as the repository name, username, number of stars, and repository URL.\n",
        "\n",
        "- Stored the scraped data in CSV files, one for each topic, in a structured format for easy analysis and manipulation.\n",
        "\n",
        "\n",
        "**References to links found useful**\n",
        "\n",
        "\n",
        "- Python Requests Library Documentation: Official documentation for the Requests library, which was used to send HTTP requests and download web pages.\n",
        "\n",
        "- Beautiful Soup Documentation: Official documentation for the Beautiful Soup library, which was used for parsing HTML and XML documents.\n",
        "- Pandas Documentation: Official documentation for the Pandas library, which was used for data manipulation and storage.\n",
        "\n",
        "- GitHub Topics: The page that was scraped in this project, containing a list of topics and their corresponding repositories.\n",
        "\n"
      ],
      "metadata": {
        "id": "MGK7V9z6NoJ4"
      }
    },
    {
      "cell_type": "code",
      "source": [],
      "metadata": {
        "id": "xRjSPEjTPPtD"
      },
      "execution_count": null,
      "outputs": []
    }
  ],
  "metadata": {
    "kernelspec": {
      "display_name": "Python 3",
      "language": "python",
      "name": "python3"
    },
    "language_info": {
      "codemirror_mode": {
        "name": "ipython",
        "version": 3
      },
      "file_extension": ".py",
      "mimetype": "text/x-python",
      "name": "python",
      "nbconvert_exporter": "python",
      "pygments_lexer": "ipython3",
      "version": "3.7.6"
    },
    "colab": {
      "provenance": []
    }
  },
  "nbformat": 4,
  "nbformat_minor": 0
}